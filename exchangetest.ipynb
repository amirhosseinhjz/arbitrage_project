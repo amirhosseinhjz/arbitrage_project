{
 "cells": [
  {
   "cell_type": "code",
   "execution_count": 1,
   "metadata": {},
   "outputs": [],
   "source": [
    "from orderbook.binance_manager import PerpExchange\n"
   ]
  },
  {
   "cell_type": "code",
   "execution_count": 2,
   "metadata": {},
   "outputs": [],
   "source": [
    "API_KEY = '93a09d317e3c3d6a986401c1ad487d81f8c53a50122f3a91a0610fe9880b884d' # futures testnet\n",
    "API_SECRET = '286e0fca8d36061c20f0dc53ef7a31c670ee8a993cc63c90c1cea9cfdfab764b'\n",
    "creds = {'api_key':API_KEY, 'api_secret':API_SECRET}"
   ]
  },
  {
   "cell_type": "code",
   "execution_count": 3,
   "metadata": {},
   "outputs": [],
   "source": [
    "pairs = ('ETH', 'USDT'), ('BAT', 'USDT'), ('ALICE', 'USDT'), ('ADA', 'USDT')"
   ]
  },
  {
   "cell_type": "code",
   "execution_count": 4,
   "metadata": {},
   "outputs": [],
   "source": [
    "bm = PerpExchange(pairs=pairs, private=True, credentials=creds, testnet=True)"
   ]
  },
  {
   "cell_type": "code",
   "execution_count": 5,
   "metadata": {},
   "outputs": [
    {
     "data": {
      "text/plain": [
       "[{'accountAlias': 'sRTioCfWXqAu',\n",
       "  'asset': 'BNB',\n",
       "  'balance': '0.00000000',\n",
       "  'crossWalletBalance': '0.00000000',\n",
       "  'crossUnPnl': '0.00000000',\n",
       "  'availableBalance': '0.00000000',\n",
       "  'maxWithdrawAmount': '0.00000000',\n",
       "  'marginAvailable': True,\n",
       "  'updateTime': 0},\n",
       " {'accountAlias': 'sRTioCfWXqAu',\n",
       "  'asset': 'USDT',\n",
       "  'balance': '1177.63022189',\n",
       "  'crossWalletBalance': '1177.63022189',\n",
       "  'crossUnPnl': '0.00000000',\n",
       "  'availableBalance': '1177.63022189',\n",
       "  'maxWithdrawAmount': '1177.63022189',\n",
       "  'marginAvailable': True,\n",
       "  'updateTime': 1657716256779},\n",
       " {'accountAlias': 'sRTioCfWXqAu',\n",
       "  'asset': 'BUSD',\n",
       "  'balance': '0.00000000',\n",
       "  'crossWalletBalance': '0.00000000',\n",
       "  'crossUnPnl': '0.00000000',\n",
       "  'availableBalance': '0.00000000',\n",
       "  'maxWithdrawAmount': '0.00000000',\n",
       "  'marginAvailable': True,\n",
       "  'updateTime': 0}]"
      ]
     },
     "execution_count": 5,
     "metadata": {},
     "output_type": "execute_result"
    }
   ],
   "source": [
    "bm.get_account_balance()"
   ]
  },
  {
   "cell_type": "code",
   "execution_count": null,
   "metadata": {},
   "outputs": [],
   "source": [
    "bm.start()"
   ]
  },
  {
   "cell_type": "code",
   "execution_count": null,
   "metadata": {},
   "outputs": [],
   "source": [
    "bm.asks(pairs[1])"
   ]
  },
  {
   "cell_type": "code",
   "execution_count": null,
   "metadata": {},
   "outputs": [],
   "source": [
    "bm.buy(pair=('BTC', 'USDT'), qty=0.02, price=19000)"
   ]
  },
  {
   "cell_type": "code",
   "execution_count": null,
   "metadata": {},
   "outputs": [],
   "source": [
    "bm.cancel_order(3069697818,)"
   ]
  },
  {
   "cell_type": "code",
   "execution_count": null,
   "metadata": {},
   "outputs": [],
   "source": [
    "bm.orders"
   ]
  },
  {
   "cell_type": "code",
   "execution_count": null,
   "metadata": {},
   "outputs": [],
   "source": [
    "listenkey = bm.get_listenkey()\n",
    "streams = bm.get_streams()"
   ]
  },
  {
   "cell_type": "code",
   "execution_count": null,
   "metadata": {},
   "outputs": [],
   "source": [
    "import threading\n",
    "# get all threads\n",
    "threads = threading.enumerate()\n",
    "threads"
   ]
  },
  {
   "cell_type": "code",
   "execution_count": null,
   "metadata": {},
   "outputs": [],
   "source": [
    "def clbk(msg):\n",
    "    # print(msg)\n",
    "    if 'e' in msg:\n",
    "        if msg['e'] == 'ORDER_TRADE_UPDATE':\n",
    "            print(msg)\n",
    "    "
   ]
  },
  {
   "cell_type": "code",
   "execution_count": 1,
   "metadata": {},
   "outputs": [
    {
     "ename": "NameError",
     "evalue": "name 'streams' is not defined",
     "output_type": "error",
     "traceback": [
      "\u001b[1;31m---------------------------------------------------------------------------\u001b[0m",
      "\u001b[1;31mNameError\u001b[0m                                 Traceback (most recent call last)",
      "\u001b[1;32me:\\NoaTrader\\arbitrage\\arbitrage_strategy\\exchangetest.ipynb Cell 14\u001b[0m in \u001b[0;36m<cell line: 2>\u001b[1;34m()\u001b[0m\n\u001b[0;32m      <a href='vscode-notebook-cell:/e%3A/NoaTrader/arbitrage/arbitrage_strategy/exchangetest.ipynb#ch0000013?line=0'>1</a>\u001b[0m \u001b[39mfrom\u001b[39;00m \u001b[39morderbook\u001b[39;00m\u001b[39m.\u001b[39;00m\u001b[39msocketmanager\u001b[39;00m \u001b[39mimport\u001b[39;00m Socket\n\u001b[1;32m----> <a href='vscode-notebook-cell:/e%3A/NoaTrader/arbitrage/arbitrage_strategy/exchangetest.ipynb#ch0000013?line=1'>2</a>\u001b[0m url \u001b[39m=\u001b[39m \u001b[39m'\u001b[39m\u001b[39mwss://stream.binancefuture.com/ws/stream?streams=\u001b[39m\u001b[39m'\u001b[39m \u001b[39m+\u001b[39m \u001b[39m'\u001b[39m\u001b[39m/\u001b[39m\u001b[39m'\u001b[39m\u001b[39m.\u001b[39mjoin(streams) \u001b[39m+\u001b[39m \u001b[39m'\u001b[39m\u001b[39m&listenKey=\u001b[39m\u001b[39m'\u001b[39m \u001b[39m+\u001b[39m listenkey \n\u001b[0;32m      <a href='vscode-notebook-cell:/e%3A/NoaTrader/arbitrage/arbitrage_strategy/exchangetest.ipynb#ch0000013?line=2'>3</a>\u001b[0m s \u001b[39m=\u001b[39m Socket(url, clbk)\n\u001b[0;32m      <a href='vscode-notebook-cell:/e%3A/NoaTrader/arbitrage/arbitrage_strategy/exchangetest.ipynb#ch0000013?line=3'>4</a>\u001b[0m s\u001b[39m.\u001b[39mstart()\n",
      "\u001b[1;31mNameError\u001b[0m: name 'streams' is not defined"
     ]
    }
   ],
   "source": [
    "from orderbook.socketmanager import Socket\n",
    "url = 'wss://stream.binancefuture.com/ws/stream?streams=' + '/'.join(streams) + '&listenKey=' + listenkey \n",
    "s = Socket(url, clbk)\n",
    "s.start()"
   ]
  },
  {
   "cell_type": "code",
   "execution_count": null,
   "metadata": {},
   "outputs": [],
   "source": [
    "from kucoin_futures.client import Trade\n",
    "# key = '62cee23c2b968a000153a69d' #kucoin sandbox\n",
    "# secret = '5c6f9db0-cb21-40cb-abbc-6a72dd313c8f'\n",
    "# passphrase = '12561256'\n",
    "key = '62d254194deedd0001e77cf3' #kucoin futures\n",
    "secret = 'bfa00f13-7103-4e5a-890b-165b520cd77a'\n",
    "passphrase = 'noatrader'\n",
    "client = Trade(key=key, secret=secret, passphrase=passphrase)\n"
   ]
  },
  {
   "cell_type": "code",
   "execution_count": null,
   "metadata": {},
   "outputs": [],
   "source": [
    "order_id = client.create_limit_order('XBTUSDM', 'buy', '1', '30', '8600')"
   ]
  },
  {
   "cell_type": "code",
   "execution_count": 1,
   "metadata": {},
   "outputs": [],
   "source": [
    "from orderbook.kucoin_manager import PerpExchange\n",
    "\n",
    "# key = '62cee23c2b968a000153a69d' #kucoin sandbox\n",
    "# secret = '5c6f9db0-cb21-40cb-abbc-6a72dd313c8f'\n",
    "# passphrase = '12561256'\n",
    "# key = '62cc0faaeca38b0001f4a409' #kucoin perp\n",
    "# secret = '657373ea-c515-4937-b363-5f606b077942'\n",
    "# passphrase = '12561256'\n",
    "key = '62d254194deedd0001e77cf3' #kucoin futures\n",
    "secret = 'bfa00f13-7103-4e5a-890b-165b520cd77a'\n",
    "passphrase = 'noatrader'\n",
    "creds = {'api_key':key, 'api_secret':secret, 'api_passphrase':passphrase}\n",
    "pairs = ('ETH', 'USDT'), ('BAT', 'USDT'), ('ALICE', 'USDT'), ('ADA', 'USDT')\n",
    "ex = PerpExchange(pairs=pairs, private=True, credentials=creds, testnet=False)"
   ]
  },
  {
   "cell_type": "code",
   "execution_count": 2,
   "metadata": {},
   "outputs": [],
   "source": [
    "k_info = ex.get_market_contract_list()\n",
    "k_info = k_info['data']"
   ]
  },
  {
   "cell_type": "code",
   "execution_count": 3,
   "metadata": {},
   "outputs": [],
   "source": [
    "data = {}\n",
    "for item in k_info:\n",
    "    symbol = item['symbol']\n",
    "    maxOrderQty = item['maxOrderQty']\n",
    "    multiplier = item['multiplier']\n",
    "    if multiplier < 0:\n",
    "        continue\n",
    "    data[symbol] = {'maxQty':maxOrderQty, 'minQty':multiplier}"
   ]
  },
  {
   "cell_type": "code",
   "execution_count": 4,
   "metadata": {},
   "outputs": [
    {
     "data": {
      "text/plain": [
       "{'XBTUSDTM': {'maxQty': 1000000, 'minQty': 0.001},\n",
       " 'ETHUSDTM': {'maxQty': 1000000, 'minQty': 0.01},\n",
       " 'BCHUSDTM': {'maxQty': 1000000, 'minQty': 0.01},\n",
       " 'BSVUSDTM': {'maxQty': 1000000, 'minQty': 0.01},\n",
       " 'LINKUSDTM': {'maxQty': 1000000, 'minQty': 0.1},\n",
       " 'UNIUSDTM': {'maxQty': 1000000, 'minQty': 1.0},\n",
       " 'YFIUSDTM': {'maxQty': 1000000, 'minQty': 0.0001},\n",
       " 'EOSUSDTM': {'maxQty': 1000000, 'minQty': 1.0},\n",
       " 'DOTUSDTM': {'maxQty': 1000000, 'minQty': 1.0},\n",
       " 'FILUSDTM': {'maxQty': 1000000, 'minQty': 0.1},\n",
       " 'ADAUSDTM': {'maxQty': 1000000, 'minQty': 10.0},\n",
       " 'XRPUSDTM': {'maxQty': 1000000, 'minQty': 10.0},\n",
       " 'LTCUSDTM': {'maxQty': 1000000, 'minQty': 0.1},\n",
       " 'TRXUSDTM': {'maxQty': 1000000, 'minQty': 100.0},\n",
       " 'GRTUSDTM': {'maxQty': 1000000, 'minQty': 1.0},\n",
       " 'SUSHIUSDTM': {'maxQty': 1000000, 'minQty': 1.0},\n",
       " 'XLMUSDTM': {'maxQty': 1000000, 'minQty': 10.0},\n",
       " '1INCHUSDTM': {'maxQty': 1000000, 'minQty': 1.0},\n",
       " 'ZECUSDTM': {'maxQty': 1000000, 'minQty': 0.01},\n",
       " 'DASHUSDTM': {'maxQty': 1000000, 'minQty': 0.01},\n",
       " 'AAVEUSDTM': {'maxQty': 1000000, 'minQty': 0.01},\n",
       " 'KSMUSDTM': {'maxQty': 1000000, 'minQty': 0.01},\n",
       " 'DOGEUSDTM': {'maxQty': 1000000, 'minQty': 100.0},\n",
       " 'VETUSDTM': {'maxQty': 1000000, 'minQty': 100.0},\n",
       " 'BNBUSDTM': {'maxQty': 1000000, 'minQty': 0.01},\n",
       " 'SXPUSDTM': {'maxQty': 1000000, 'minQty': 1.0},\n",
       " 'SOLUSDTM': {'maxQty': 1000000, 'minQty': 0.1},\n",
       " 'IOSTUSDTM': {'maxQty': 1000000, 'minQty': 100.0},\n",
       " 'CRVUSDTM': {'maxQty': 1000000, 'minQty': 1.0},\n",
       " 'ALGOUSDTM': {'maxQty': 1000000, 'minQty': 1.0},\n",
       " 'AVAXUSDTM': {'maxQty': 1000000, 'minQty': 0.1},\n",
       " 'FTMUSDTM': {'maxQty': 1000000, 'minQty': 1.0},\n",
       " 'MATICUSDTM': {'maxQty': 1000000, 'minQty': 10.0},\n",
       " 'THETAUSDTM': {'maxQty': 1000000, 'minQty': 0.1},\n",
       " 'ATOMUSDTM': {'maxQty': 1000000, 'minQty': 0.1},\n",
       " 'CHZUSDTM': {'maxQty': 1000000, 'minQty': 1.0},\n",
       " 'ENJUSDTM': {'maxQty': 1000000, 'minQty': 1.0},\n",
       " 'MANAUSDTM': {'maxQty': 1000000, 'minQty': 1.0},\n",
       " 'DENTUSDTM': {'maxQty': 1000000, 'minQty': 100.0},\n",
       " 'OCEANUSDTM': {'maxQty': 1000000, 'minQty': 1.0},\n",
       " 'BATUSDTM': {'maxQty': 1000000, 'minQty': 1.0},\n",
       " 'XEMUSDTM': {'maxQty': 1000000, 'minQty': 1.0},\n",
       " 'QTUMUSDTM': {'maxQty': 1000000, 'minQty': 0.1},\n",
       " 'XTZUSDTM': {'maxQty': 1000000, 'minQty': 1.0},\n",
       " 'SNXUSDTM': {'maxQty': 1000000, 'minQty': 0.1},\n",
       " 'NEOUSDTM': {'maxQty': 1000000, 'minQty': 0.1},\n",
       " 'ONTUSDTM': {'maxQty': 1000000, 'minQty': 1.0},\n",
       " 'XMRUSDTM': {'maxQty': 1000000, 'minQty': 0.01},\n",
       " 'COMPUSDTM': {'maxQty': 1000000, 'minQty': 0.01},\n",
       " 'ETCUSDTM': {'maxQty': 1000000, 'minQty': 0.1},\n",
       " 'WAVESUSDTM': {'maxQty': 1000000, 'minQty': 0.1},\n",
       " 'BANDUSDTM': {'maxQty': 1000000, 'minQty': 0.1},\n",
       " 'MKRUSDTM': {'maxQty': 1000000, 'minQty': 0.001},\n",
       " 'RVNUSDTM': {'maxQty': 1000000, 'minQty': 10.0},\n",
       " 'DGBUSDTM': {'maxQty': 1000000, 'minQty': 10.0},\n",
       " 'MIRUSDTM': {'maxQty': 1000000, 'minQty': 0.1},\n",
       " 'SHIBUSDTM': {'maxQty': 1000000, 'minQty': 100000.0},\n",
       " 'ICPUSDTM': {'maxQty': 1000000, 'minQty': 0.01},\n",
       " 'DYDXUSDTM': {'maxQty': 1000000, 'minQty': 0.1},\n",
       " 'AXSUSDTM': {'maxQty': 1000000, 'minQty': 0.1},\n",
       " 'HBARUSDTM': {'maxQty': 1000000, 'minQty': 10.0},\n",
       " 'EGLDUSDTM': {'maxQty': 1000000, 'minQty': 0.01},\n",
       " 'ALICEUSDTM': {'maxQty': 1000000, 'minQty': 0.1},\n",
       " 'YGGUSDTM': {'maxQty': 1000000, 'minQty': 0.1},\n",
       " 'NEARUSDTM': {'maxQty': 1000000, 'minQty': 0.1},\n",
       " 'SANDUSDTM': {'maxQty': 1000000, 'minQty': 1.0},\n",
       " 'C98USDTM': {'maxQty': 1000000, 'minQty': 1.0},\n",
       " 'ONEUSDTM': {'maxQty': 1000000, 'minQty': 10.0},\n",
       " 'VRAUSDTM': {'maxQty': 1000000, 'minQty': 10.0},\n",
       " 'GALAUSDTM': {'maxQty': 1000000, 'minQty': 1.0},\n",
       " 'TLMUSDTM': {'maxQty': 1000000, 'minQty': 1.0},\n",
       " 'CHRUSDTM': {'maxQty': 1000000, 'minQty': 1.0},\n",
       " 'LRCUSDTM': {'maxQty': 1000000, 'minQty': 1.0},\n",
       " 'FLOWUSDTM': {'maxQty': 1000000, 'minQty': 0.1},\n",
       " 'RNDRUSDTM': {'maxQty': 1000000, 'minQty': 1.0},\n",
       " 'IOTXUSDTM': {'maxQty': 1000000, 'minQty': 10.0},\n",
       " 'CROUSDTM': {'maxQty': 1000000, 'minQty': 1.0},\n",
       " 'WAXPUSDTM': {'maxQty': 1000000, 'minQty': 1.0},\n",
       " 'PEOPLEUSDTM': {'maxQty': 1000000, 'minQty': 10.0},\n",
       " 'OMGUSDTM': {'maxQty': 1000000, 'minQty': 0.1},\n",
       " 'LINAUSDTM': {'maxQty': 1000000, 'minQty': 10.0},\n",
       " 'IMXUSDTM': {'maxQty': 1000000, 'minQty': 1.0},\n",
       " 'NFTUSDTM': {'maxQty': 1000000, 'minQty': 100000.0},\n",
       " 'CELRUSDTM': {'maxQty': 1000000, 'minQty': 10.0},\n",
       " 'ENSUSDTM': {'maxQty': 1000000, 'minQty': 0.1},\n",
       " 'CELOUSDTM': {'maxQty': 1000000, 'minQty': 1.0},\n",
       " 'CTSIUSDTM': {'maxQty': 1000000, 'minQty': 1.0},\n",
       " 'SLPUSDTM': {'maxQty': 1000000, 'minQty': 10.0},\n",
       " 'ARPAUSDTM': {'maxQty': 1000000, 'minQty': 10.0},\n",
       " 'KNCUSDTM': {'maxQty': 1000000, 'minQty': 1.0},\n",
       " 'SOSUSDTM': {'maxQty': 1000000, 'minQty': 100000.0},\n",
       " 'API3USDTM': {'maxQty': 1000000, 'minQty': 0.1},\n",
       " 'ROSEUSDTM': {'maxQty': 1000000, 'minQty': 10.0},\n",
       " 'AGLDUSDTM': {'maxQty': 1000000, 'minQty': 1.0},\n",
       " 'APEUSDTM': {'maxQty': 1000000, 'minQty': 0.1},\n",
       " 'SRMUSDTM': {'maxQty': 1000000, 'minQty': 1.0},\n",
       " 'JASMYUSDTM': {'maxQty': 1000000, 'minQty': 10.0},\n",
       " 'ZILUSDTM': {'maxQty': 1000000, 'minQty': 10.0},\n",
       " 'GMTUSDTM': {'maxQty': 1000000, 'minQty': 1.0},\n",
       " 'RUNEUSDTM': {'maxQty': 1000000, 'minQty': 0.1},\n",
       " 'NYMUSDTM': {'maxQty': 1000000, 'minQty': 1.0},\n",
       " 'LOOKSUSDTM': {'maxQty': 1000000, 'minQty': 1.0},\n",
       " 'AUDIOUSDTM': {'maxQty': 1000000, 'minQty': 1.0},\n",
       " 'KDAUSDTM': {'maxQty': 1000000, 'minQty': 0.1},\n",
       " 'KAVAUSDTM': {'maxQty': 1000000, 'minQty': 0.1},\n",
       " 'BALUSDTM': {'maxQty': 1000000, 'minQty': 0.1},\n",
       " 'GALUSDTM': {'maxQty': 1000000, 'minQty': 0.1},\n",
       " 'LUNAUSDTM': {'maxQty': 1000000, 'minQty': 1.0},\n",
       " 'LUNCUSDTM': {'maxQty': 1000000, 'minQty': 1000.0},\n",
       " 'OPUSDTM': {'maxQty': 1000000, 'minQty': 1.0},\n",
       " 'XCNUSDTM': {'maxQty': 1000000, 'minQty': 10.0},\n",
       " 'UNFIUSDTM': {'maxQty': 1000000, 'minQty': 0.1},\n",
       " 'LITUSDTM': {'maxQty': 1000000, 'minQty': 1.0},\n",
       " 'DUSKUSDTM': {'maxQty': 1000000, 'minQty': 10.0},\n",
       " 'STORJUSDTM': {'maxQty': 1000000, 'minQty': 1.0},\n",
       " 'ANCUSDTM': {'maxQty': 1000000, 'minQty': 10.0},\n",
       " 'RSRUSDTM': {'maxQty': 1000000, 'minQty': 100.0},\n",
       " 'JSTUSDTM': {'maxQty': 1000000, 'minQty': 100.0},\n",
       " 'OGNUSDTM': {'maxQty': 1000000, 'minQty': 10.0},\n",
       " 'TRBUSDTM': {'maxQty': 1000000, 'minQty': 0.1},\n",
       " 'PERPUSDTM': {'maxQty': 1000000, 'minQty': 1.0}}"
      ]
     },
     "execution_count": 4,
     "metadata": {},
     "output_type": "execute_result"
    }
   ],
   "source": [
    "data"
   ]
  },
  {
   "cell_type": "code",
   "execution_count": 15,
   "metadata": {},
   "outputs": [
    {
     "data": {
      "text/plain": [
       "1658063236879, 1332.05, 122.25"
      ]
     },
     "execution_count": 15,
     "metadata": {},
     "output_type": "execute_result"
    }
   ],
   "source": [
    "ex.asks(pairs[0])"
   ]
  },
  {
   "cell_type": "code",
   "execution_count": 12,
   "metadata": {},
   "outputs": [
    {
     "data": {
      "text/plain": [
       "29.3650181898"
      ]
     },
     "execution_count": 12,
     "metadata": {},
     "output_type": "execute_result"
    }
   ],
   "source": [
    "ex.get_account_balance('USDT')"
   ]
  },
  {
   "cell_type": "code",
   "execution_count": 11,
   "metadata": {},
   "outputs": [
    {
     "data": {
      "text/plain": [
       "'62d54f20eb91930001e5f63e'"
      ]
     },
     "execution_count": 11,
     "metadata": {},
     "output_type": "execute_result"
    }
   ],
   "source": [
    "ex.sell(pair=('ADA', 'USDT'), qty=40)"
   ]
  },
  {
   "cell_type": "code",
   "execution_count": 3,
   "metadata": {},
   "outputs": [
    {
     "name": "stdout",
     "output_type": "stream",
     "text": [
      "{'code': '100004', 'msg': 'The order cannot be canceled.'}\n"
     ]
    },
    {
     "ename": "KeyError",
     "evalue": "'62d2c205292fdf00017b9af2'",
     "output_type": "error",
     "traceback": [
      "\u001b[1;31m---------------------------------------------------------------------------\u001b[0m",
      "\u001b[1;31mKeyError\u001b[0m                                  Traceback (most recent call last)",
      "\u001b[1;32me:\\NoaTrader\\arbitrage\\arbitrage_strategy\\exchangetest.ipynb Cell 21\u001b[0m in \u001b[0;36m<cell line: 1>\u001b[1;34m()\u001b[0m\n\u001b[1;32m----> <a href='vscode-notebook-cell:/e%3A/NoaTrader/arbitrage/arbitrage_strategy/exchangetest.ipynb#ch0000020?line=0'>1</a>\u001b[0m ex\u001b[39m.\u001b[39;49mcancel_order(\u001b[39m'\u001b[39;49m\u001b[39m62d2c205292fdf00017b9af2\u001b[39;49m\u001b[39m'\u001b[39;49m)\n",
      "File \u001b[1;32me:\\NoaTrader\\arbitrage\\arbitrage_strategy\\orderbook\\kucoin_manager.py:301\u001b[0m, in \u001b[0;36mPerpExchange.cancel_order\u001b[1;34m(self, order_id, symbol)\u001b[0m\n\u001b[0;32m    298\u001b[0m response_data \u001b[39m=\u001b[39m requests\u001b[39m.\u001b[39mdelete(url, headers\u001b[39m=\u001b[39mheaders,\n\u001b[0;32m    299\u001b[0m                                 timeout\u001b[39m=\u001b[39m\u001b[39mself\u001b[39m\u001b[39m.\u001b[39mREQUEST_TIMEOUT)\u001b[39m.\u001b[39mjson()\n\u001b[0;32m    300\u001b[0m \u001b[39mprint\u001b[39m(response_data)\n\u001b[1;32m--> 301\u001b[0m \u001b[39mdel\u001b[39;00m \u001b[39mself\u001b[39m\u001b[39m.\u001b[39morders[order_id]\n",
      "\u001b[1;31mKeyError\u001b[0m: '62d2c205292fdf00017b9af2'"
     ]
    }
   ],
   "source": [
    "ex.cancel_order('62d2c205292fdf00017b9af2')"
   ]
  },
  {
   "cell_type": "code",
   "execution_count": 18,
   "metadata": {},
   "outputs": [
    {
     "data": {
      "text/plain": [
       "{}"
      ]
     },
     "execution_count": 18,
     "metadata": {},
     "output_type": "execute_result"
    },
    {
     "ename": "",
     "evalue": "",
     "output_type": "error",
     "traceback": [
      "\u001b[1;31mThe Kernel crashed while executing code in the the current cell or a previous cell. Please review the code in the cell(s) to identify a possible cause of the failure. Click <a href='https://aka.ms/vscodeJupyterKernelCrash'>here</a> for more info. View Jupyter <a href='command:jupyter.viewOutput'>log</a> for further details."
     ]
    }
   ],
   "source": [
    "ex.orders#['62d3ffbcf9e29e00014b85b0']"
   ]
  },
  {
   "cell_type": "code",
   "execution_count": 2,
   "metadata": {},
   "outputs": [
    {
     "data": {
      "text/plain": [
       "{'code': '200000',\n",
       " 'data': {'accountEquity': 29.3379439325,\n",
       "  'unrealisedPNL': 0,\n",
       "  'marginBalance': 29.3379439325,\n",
       "  'positionMargin': 0,\n",
       "  'orderMargin': 0,\n",
       "  'frozenFunds': 0,\n",
       "  'availableBalance': 29.3379439325,\n",
       "  'currency': 'USDT'}}"
      ]
     },
     "execution_count": 2,
     "metadata": {},
     "output_type": "execute_result"
    }
   ],
   "source": [
    "ex._get_account_overview('USDT')"
   ]
  },
  {
   "cell_type": "code",
   "execution_count": 5,
   "metadata": {},
   "outputs": [
    {
     "data": {
      "text/plain": [
       "<Response [502]>"
      ]
     },
     "execution_count": 5,
     "metadata": {},
     "output_type": "execute_result"
    }
   ],
   "source": [
    "import requests\n",
    "requests.post('https://api-sandbox-futures.kucoin.com/api/v1/orders')"
   ]
  },
  {
   "cell_type": "code",
   "execution_count": 1,
   "metadata": {},
   "outputs": [],
   "source": [
    "from orderbook.binance_manager import PerpExchange"
   ]
  },
  {
   "cell_type": "code",
   "execution_count": 2,
   "metadata": {},
   "outputs": [],
   "source": [
    "ex = PerpExchange([])"
   ]
  },
  {
   "cell_type": "code",
   "execution_count": 23,
   "metadata": {},
   "outputs": [],
   "source": [
    "info = ex.exchange_info()"
   ]
  },
  {
   "cell_type": "code",
   "execution_count": 24,
   "metadata": {},
   "outputs": [],
   "source": [
    "data = {}\n",
    "for symb in info['symbols']:\n",
    "    symbol = symb['symbol']\n",
    "    for filter_ in symb['filters']:\n",
    "        if 'filterType' not in filter_:\n",
    "            continue\n",
    "        if filter_['filterType'] == 'MARKET_LOT_SIZE':\n",
    "            data[symbol] = {'stepSize': float(filter_['stepSize']), 'maxQty':float(filter_['maxQty']), 'minQty':float(filter_['minQty'])}"
   ]
  },
  {
   "cell_type": "code",
   "execution_count": 25,
   "metadata": {},
   "outputs": [
    {
     "data": {
      "text/plain": [
       "{'BTCUSDT': {'stepSize': 0.001, 'maxQty': 120.0, 'minQty': 0.001},\n",
       " 'ETHUSDT': {'stepSize': 0.001, 'maxQty': 2000.0, 'minQty': 0.001},\n",
       " 'BCHUSDT': {'stepSize': 0.001, 'maxQty': 850.0, 'minQty': 0.001},\n",
       " 'XRPUSDT': {'stepSize': 0.1, 'maxQty': 500000.0, 'minQty': 0.1},\n",
       " 'EOSUSDT': {'stepSize': 0.1, 'maxQty': 120000.0, 'minQty': 0.1},\n",
       " 'LTCUSDT': {'stepSize': 0.001, 'maxQty': 3000.0, 'minQty': 0.001},\n",
       " 'TRXUSDT': {'stepSize': 1.0, 'maxQty': 5000000.0, 'minQty': 1.0},\n",
       " 'ETCUSDT': {'stepSize': 0.01, 'maxQty': 10000.0, 'minQty': 0.01},\n",
       " 'LINKUSDT': {'stepSize': 0.01, 'maxQty': 20000.0, 'minQty': 0.01},\n",
       " 'XLMUSDT': {'stepSize': 1.0, 'maxQty': 1000000.0, 'minQty': 1.0},\n",
       " 'ADAUSDT': {'stepSize': 1.0, 'maxQty': 300000.0, 'minQty': 1.0},\n",
       " 'XMRUSDT': {'stepSize': 0.001, 'maxQty': 2000.0, 'minQty': 0.001},\n",
       " 'DASHUSDT': {'stepSize': 0.001, 'maxQty': 3000.0, 'minQty': 0.001},\n",
       " 'ZECUSDT': {'stepSize': 0.001, 'maxQty': 5000.0, 'minQty': 0.001},\n",
       " 'XTZUSDT': {'stepSize': 0.1, 'maxQty': 100000.0, 'minQty': 0.1},\n",
       " 'BNBUSDT': {'stepSize': 0.01, 'maxQty': 1500.0, 'minQty': 0.01},\n",
       " 'ATOMUSDT': {'stepSize': 0.01, 'maxQty': 20000.0, 'minQty': 0.01},\n",
       " 'ONTUSDT': {'stepSize': 0.1, 'maxQty': 250000.0, 'minQty': 0.1},\n",
       " 'IOTAUSDT': {'stepSize': 0.1, 'maxQty': 50000.0, 'minQty': 0.1},\n",
       " 'BATUSDT': {'stepSize': 0.1, 'maxQty': 600000.0, 'minQty': 0.1},\n",
       " 'VETUSDT': {'stepSize': 1.0, 'maxQty': 2500000.0, 'minQty': 1.0},\n",
       " 'NEOUSDT': {'stepSize': 0.01, 'maxQty': 10000.0, 'minQty': 0.01},\n",
       " 'QTUMUSDT': {'stepSize': 0.1, 'maxQty': 10000.0, 'minQty': 0.1},\n",
       " 'IOSTUSDT': {'stepSize': 1.0, 'maxQty': 5000000.0, 'minQty': 1.0},\n",
       " 'THETAUSDT': {'stepSize': 0.1, 'maxQty': 100000.0, 'minQty': 0.1},\n",
       " 'ALGOUSDT': {'stepSize': 0.1, 'maxQty': 500000.0, 'minQty': 0.1},\n",
       " 'ZILUSDT': {'stepSize': 1.0, 'maxQty': 5000000.0, 'minQty': 1.0},\n",
       " 'KNCUSDT': {'stepSize': 1.0, 'maxQty': 300000.0, 'minQty': 1.0},\n",
       " 'ZRXUSDT': {'stepSize': 0.1, 'maxQty': 500000.0, 'minQty': 0.1},\n",
       " 'COMPUSDT': {'stepSize': 0.001, 'maxQty': 1000.0, 'minQty': 0.001},\n",
       " 'OMGUSDT': {'stepSize': 0.1, 'maxQty': 10000.0, 'minQty': 0.1},\n",
       " 'DOGEUSDT': {'stepSize': 1.0, 'maxQty': 2500000.0, 'minQty': 1.0},\n",
       " 'SXPUSDT': {'stepSize': 0.1, 'maxQty': 40000.0, 'minQty': 0.1},\n",
       " 'KAVAUSDT': {'stepSize': 0.1, 'maxQty': 100000.0, 'minQty': 0.1},\n",
       " 'BANDUSDT': {'stepSize': 0.1, 'maxQty': 80000.0, 'minQty': 0.1},\n",
       " 'RLCUSDT': {'stepSize': 0.1, 'maxQty': 100000.0, 'minQty': 0.1},\n",
       " 'WAVESUSDT': {'stepSize': 0.1, 'maxQty': 16000.0, 'minQty': 0.1},\n",
       " 'MKRUSDT': {'stepSize': 0.001, 'maxQty': 100.0, 'minQty': 0.001},\n",
       " 'SNXUSDT': {'stepSize': 0.1, 'maxQty': 8000.0, 'minQty': 0.1},\n",
       " 'DOTUSDT': {'stepSize': 0.1, 'maxQty': 50000.0, 'minQty': 0.1},\n",
       " 'DEFIUSDT': {'stepSize': 0.001, 'maxQty': 200.0, 'minQty': 0.001},\n",
       " 'YFIUSDT': {'stepSize': 0.001, 'maxQty': 20.0, 'minQty': 0.001},\n",
       " 'BALUSDT': {'stepSize': 0.1, 'maxQty': 20000.0, 'minQty': 0.1},\n",
       " 'CRVUSDT': {'stepSize': 0.1, 'maxQty': 300000.0, 'minQty': 0.1},\n",
       " 'TRBUSDT': {'stepSize': 0.1, 'maxQty': 2000.0, 'minQty': 0.1},\n",
       " 'RUNEUSDT': {'stepSize': 1.0, 'maxQty': 50000.0, 'minQty': 1.0},\n",
       " 'SUSHIUSDT': {'stepSize': 1.0, 'maxQty': 25000.0, 'minQty': 1.0},\n",
       " 'SRMUSDT': {'stepSize': 1.0, 'maxQty': 10000.0, 'minQty': 1.0},\n",
       " 'EGLDUSDT': {'stepSize': 0.1, 'maxQty': 2000.0, 'minQty': 0.1},\n",
       " 'SOLUSDT': {'stepSize': 1.0, 'maxQty': 9000.0, 'minQty': 1.0},\n",
       " 'ICXUSDT': {'stepSize': 1.0, 'maxQty': 300000.0, 'minQty': 1.0},\n",
       " 'STORJUSDT': {'stepSize': 1.0, 'maxQty': 20000.0, 'minQty': 1.0},\n",
       " 'BLZUSDT': {'stepSize': 1.0, 'maxQty': 200000.0, 'minQty': 1.0},\n",
       " 'UNIUSDT': {'stepSize': 1.0, 'maxQty': 25000.0, 'minQty': 1.0},\n",
       " 'AVAXUSDT': {'stepSize': 1.0, 'maxQty': 5000.0, 'minQty': 1.0},\n",
       " 'FTMUSDT': {'stepSize': 1.0, 'maxQty': 250000.0, 'minQty': 1.0},\n",
       " 'HNTUSDT': {'stepSize': 1.0, 'maxQty': 10000.0, 'minQty': 1.0},\n",
       " 'ENJUSDT': {'stepSize': 1.0, 'maxQty': 100000.0, 'minQty': 1.0},\n",
       " 'FLMUSDT': {'stepSize': 1.0, 'maxQty': 100000.0, 'minQty': 1.0},\n",
       " 'TOMOUSDT': {'stepSize': 1.0, 'maxQty': 110000.0, 'minQty': 1.0},\n",
       " 'RENUSDT': {'stepSize': 1.0, 'maxQty': 300000.0, 'minQty': 1.0},\n",
       " 'KSMUSDT': {'stepSize': 0.1, 'maxQty': 1000.0, 'minQty': 0.1},\n",
       " 'NEARUSDT': {'stepSize': 1.0, 'maxQty': 24000.0, 'minQty': 1.0},\n",
       " 'AAVEUSDT': {'stepSize': 0.1, 'maxQty': 1250.0, 'minQty': 0.1},\n",
       " 'FILUSDT': {'stepSize': 0.1, 'maxQty': 7500.0, 'minQty': 0.1},\n",
       " 'RSRUSDT': {'stepSize': 1.0, 'maxQty': 10000000.0, 'minQty': 1.0},\n",
       " 'LRCUSDT': {'stepSize': 1.0, 'maxQty': 500000.0, 'minQty': 1.0},\n",
       " 'MATICUSDT': {'stepSize': 1.0, 'maxQty': 500000.0, 'minQty': 1.0},\n",
       " 'OCEANUSDT': {'stepSize': 1.0, 'maxQty': 100000.0, 'minQty': 1.0},\n",
       " 'CVCUSDT': {'stepSize': 1.0, 'maxQty': 200000.0, 'minQty': 1.0},\n",
       " 'BELUSDT': {'stepSize': 1.0, 'maxQty': 150000.0, 'minQty': 1.0},\n",
       " 'CTKUSDT': {'stepSize': 1.0, 'maxQty': 150000.0, 'minQty': 1.0},\n",
       " 'AXSUSDT': {'stepSize': 1.0, 'maxQty': 8000.0, 'minQty': 1.0},\n",
       " 'ALPHAUSDT': {'stepSize': 1.0, 'maxQty': 100000.0, 'minQty': 1.0},\n",
       " 'ZENUSDT': {'stepSize': 0.1, 'maxQty': 4000.0, 'minQty': 0.1},\n",
       " 'SKLUSDT': {'stepSize': 1.0, 'maxQty': 1000000.0, 'minQty': 1.0},\n",
       " 'GRTUSDT': {'stepSize': 1.0, 'maxQty': 150000.0, 'minQty': 1.0},\n",
       " '1INCHUSDT': {'stepSize': 1.0, 'maxQty': 100000.0, 'minQty': 1.0},\n",
       " 'BTCBUSD': {'stepSize': 0.001, 'maxQty': 50.0, 'minQty': 0.001},\n",
       " 'CHZUSDT': {'stepSize': 1.0, 'maxQty': 850000.0, 'minQty': 1.0},\n",
       " 'SANDUSDT': {'stepSize': 1.0, 'maxQty': 500000.0, 'minQty': 1.0},\n",
       " 'ANKRUSDT': {'stepSize': 1.0, 'maxQty': 2500000.0, 'minQty': 1.0},\n",
       " 'BTSUSDT': {'stepSize': 1.0, 'maxQty': 3000000.0, 'minQty': 1.0},\n",
       " 'LITUSDT': {'stepSize': 0.1, 'maxQty': 20000.0, 'minQty': 0.1},\n",
       " 'UNFIUSDT': {'stepSize': 0.1, 'maxQty': 8000.0, 'minQty': 0.1},\n",
       " 'REEFUSDT': {'stepSize': 1.0, 'maxQty': 10000000.0, 'minQty': 1.0},\n",
       " 'RVNUSDT': {'stepSize': 1.0, 'maxQty': 3000000.0, 'minQty': 1.0},\n",
       " 'SFPUSDT': {'stepSize': 1.0, 'maxQty': 300000.0, 'minQty': 1.0},\n",
       " 'XEMUSDT': {'stepSize': 1.0, 'maxQty': 1500000.0, 'minQty': 1.0},\n",
       " 'BTCSTUSDT': {'stepSize': 0.1, 'maxQty': 1000.0, 'minQty': 0.1},\n",
       " 'COTIUSDT': {'stepSize': 1.0, 'maxQty': 250000.0, 'minQty': 1.0},\n",
       " 'CHRUSDT': {'stepSize': 1.0, 'maxQty': 250000.0, 'minQty': 1.0},\n",
       " 'MANAUSDT': {'stepSize': 1.0, 'maxQty': 100000.0, 'minQty': 1.0},\n",
       " 'ALICEUSDT': {'stepSize': 0.1, 'maxQty': 12000.0, 'minQty': 0.1},\n",
       " 'HBARUSDT': {'stepSize': 1.0, 'maxQty': 300000.0, 'minQty': 1.0},\n",
       " 'ONEUSDT': {'stepSize': 1.0, 'maxQty': 500000.0, 'minQty': 1.0},\n",
       " 'LINAUSDT': {'stepSize': 1.0, 'maxQty': 2500000.0, 'minQty': 1.0},\n",
       " 'STMXUSDT': {'stepSize': 1.0, 'maxQty': 1000000.0, 'minQty': 1.0},\n",
       " 'DENTUSDT': {'stepSize': 1.0, 'maxQty': 10000000.0, 'minQty': 1.0},\n",
       " 'CELRUSDT': {'stepSize': 1.0, 'maxQty': 500000.0, 'minQty': 1.0},\n",
       " 'HOTUSDT': {'stepSize': 1.0, 'maxQty': 10000000.0, 'minQty': 1.0},\n",
       " 'MTLUSDT': {'stepSize': 1.0, 'maxQty': 50000.0, 'minQty': 1.0},\n",
       " 'OGNUSDT': {'stepSize': 1.0, 'maxQty': 100000.0, 'minQty': 1.0},\n",
       " 'NKNUSDT': {'stepSize': 1.0, 'maxQty': 50000.0, 'minQty': 1.0},\n",
       " 'SCUSDT': {'stepSize': 1.0, 'maxQty': 5000000.0, 'minQty': 1.0},\n",
       " 'DGBUSDT': {'stepSize': 1.0, 'maxQty': 500000.0, 'minQty': 1.0},\n",
       " '1000SHIBUSDT': {'stepSize': 1.0, 'maxQty': 20000000.0, 'minQty': 1.0},\n",
       " 'ICPUSDT': {'stepSize': 0.01, 'maxQty': 5000.0, 'minQty': 0.01},\n",
       " 'BAKEUSDT': {'stepSize': 1.0, 'maxQty': 30000.0, 'minQty': 1.0},\n",
       " 'GTCUSDT': {'stepSize': 0.1, 'maxQty': 5000.0, 'minQty': 0.1},\n",
       " 'ETHBUSD': {'stepSize': 0.001, 'maxQty': 300.0, 'minQty': 0.001},\n",
       " 'BTCDOMUSDT': {'stepSize': 0.001, 'maxQty': 100.0, 'minQty': 0.001},\n",
       " 'TLMUSDT': {'stepSize': 1.0, 'maxQty': 625000.0, 'minQty': 1.0},\n",
       " 'BNBBUSD': {'stepSize': 0.01, 'maxQty': 400.0, 'minQty': 0.01},\n",
       " 'ADABUSD': {'stepSize': 1.0, 'maxQty': 25000.0, 'minQty': 1.0},\n",
       " 'XRPBUSD': {'stepSize': 0.1, 'maxQty': 50000.0, 'minQty': 0.1},\n",
       " 'IOTXUSDT': {'stepSize': 1.0, 'maxQty': 500000.0, 'minQty': 1.0},\n",
       " 'DOGEBUSD': {'stepSize': 1.0, 'maxQty': 400000.0, 'minQty': 1.0},\n",
       " 'AUDIOUSDT': {'stepSize': 1.0, 'maxQty': 18000.0, 'minQty': 1.0},\n",
       " 'RAYUSDT': {'stepSize': 0.1, 'maxQty': 5000.0, 'minQty': 0.1},\n",
       " 'C98USDT': {'stepSize': 1.0, 'maxQty': 30000.0, 'minQty': 1.0},\n",
       " 'MASKUSDT': {'stepSize': 1.0, 'maxQty': 6000.0, 'minQty': 1.0},\n",
       " 'ATAUSDT': {'stepSize': 1.0, 'maxQty': 50000.0, 'minQty': 1.0},\n",
       " 'SOLBUSD': {'stepSize': 1.0, 'maxQty': 1500.0, 'minQty': 1.0},\n",
       " 'FTTBUSD': {'stepSize': 0.1, 'maxQty': 2000.0, 'minQty': 0.1},\n",
       " 'DYDXUSDT': {'stepSize': 0.1, 'maxQty': 16800.0, 'minQty': 0.1},\n",
       " '1000XECUSDT': {'stepSize': 1.0, 'maxQty': 100000.0, 'minQty': 1.0},\n",
       " 'GALAUSDT': {'stepSize': 1.0, 'maxQty': 1000000.0, 'minQty': 1.0},\n",
       " 'CELOUSDT': {'stepSize': 0.1, 'maxQty': 10000.0, 'minQty': 0.1},\n",
       " 'ARUSDT': {'stepSize': 0.1, 'maxQty': 1500.0, 'minQty': 0.1},\n",
       " 'KLAYUSDT': {'stepSize': 0.1, 'maxQty': 30000.0, 'minQty': 0.1},\n",
       " 'ARPAUSDT': {'stepSize': 1.0, 'maxQty': 100000.0, 'minQty': 1.0},\n",
       " 'CTSIUSDT': {'stepSize': 1.0, 'maxQty': 60000.0, 'minQty': 1.0},\n",
       " 'LPTUSDT': {'stepSize': 0.1, 'maxQty': 1000.0, 'minQty': 0.1},\n",
       " 'ENSUSDT': {'stepSize': 0.1, 'maxQty': 1000.0, 'minQty': 0.1},\n",
       " 'PEOPLEUSDT': {'stepSize': 1.0, 'maxQty': 300002.0, 'minQty': 1.0},\n",
       " 'ANTUSDT': {'stepSize': 0.1, 'maxQty': 1000.0, 'minQty': 0.1},\n",
       " 'ROSEUSDT': {'stepSize': 1.0, 'maxQty': 100000.0, 'minQty': 1.0},\n",
       " 'DUSKUSDT': {'stepSize': 1.0, 'maxQty': 20000.0, 'minQty': 1.0},\n",
       " 'FLOWUSDT': {'stepSize': 0.1, 'maxQty': 6000.0, 'minQty': 0.1},\n",
       " 'IMXUSDT': {'stepSize': 1.0, 'maxQty': 20000.0, 'minQty': 1.0},\n",
       " 'API3USDT': {'stepSize': 0.1, 'maxQty': 10000.0, 'minQty': 0.1},\n",
       " 'GMTUSDT': {'stepSize': 1.0, 'maxQty': 150000.0, 'minQty': 1.0},\n",
       " 'APEUSDT': {'stepSize': 1.0, 'maxQty': 6000.0, 'minQty': 1.0},\n",
       " 'BNXUSDT': {'stepSize': 0.1, 'maxQty': 85.0, 'minQty': 0.1},\n",
       " 'WOOUSDT': {'stepSize': 1.0, 'maxQty': 100000.0, 'minQty': 1.0},\n",
       " 'FTTUSDT': {'stepSize': 0.1, 'maxQty': 1200.0, 'minQty': 0.1},\n",
       " 'JASMYUSDT': {'stepSize': 1.0, 'maxQty': 2500000.0, 'minQty': 1.0},\n",
       " 'DARUSDT': {'stepSize': 0.1, 'maxQty': 30000.0, 'minQty': 0.1},\n",
       " 'GALUSDT': {'stepSize': 1.0, 'maxQty': 4000.0, 'minQty': 1.0},\n",
       " 'AVAXBUSD': {'stepSize': 0.1, 'maxQty': 500.0, 'minQty': 0.1},\n",
       " 'NEARBUSD': {'stepSize': 0.1, 'maxQty': 9000.0, 'minQty': 0.1},\n",
       " 'GMTBUSD': {'stepSize': 0.1, 'maxQty': 32000.0, 'minQty': 0.1},\n",
       " 'APEBUSD': {'stepSize': 0.1, 'maxQty': 8000.0, 'minQty': 0.1},\n",
       " 'GALBUSD': {'stepSize': 1.0, 'maxQty': 10000.0, 'minQty': 1.0},\n",
       " 'FTMBUSD': {'stepSize': 1.0, 'maxQty': 120000.0, 'minQty': 1.0},\n",
       " 'DODOBUSD': {'stepSize': 1.0, 'maxQty': 300000.0, 'minQty': 1.0},\n",
       " 'ANCBUSD': {'stepSize': 1.0, 'maxQty': 150000.0, 'minQty': 1.0},\n",
       " 'GALABUSD': {'stepSize': 1.0, 'maxQty': 600000.0, 'minQty': 1.0},\n",
       " 'TRXBUSD': {'stepSize': 1.0, 'maxQty': 600000.0, 'minQty': 1.0},\n",
       " '1000LUNCBUSD': {'stepSize': 1.0, 'maxQty': 420000.0, 'minQty': 1.0},\n",
       " 'LUNA2BUSD': {'stepSize': 1.0, 'maxQty': 7000.0, 'minQty': 1.0},\n",
       " 'OPUSDT': {'stepSize': 0.1, 'maxQty': 50000.0, 'minQty': 0.1},\n",
       " 'DOTBUSD': {'stepSize': 0.1, 'maxQty': 6000.0, 'minQty': 0.1},\n",
       " 'TLMBUSD': {'stepSize': 1.0, 'maxQty': 1600000.0, 'minQty': 1.0},\n",
       " 'ICPBUSD': {'stepSize': 0.1, 'maxQty': 8000.0, 'minQty': 0.1},\n",
       " 'BTCUSDT_220930': {'stepSize': 0.001, 'maxQty': 5.6, 'minQty': 0.001},\n",
       " 'ETHUSDT_220930': {'stepSize': 0.001, 'maxQty': 100.0, 'minQty': 0.001},\n",
       " 'WAVESBUSD': {'stepSize': 0.1, 'maxQty': 9500.0, 'minQty': 0.1},\n",
       " 'LINKBUSD': {'stepSize': 0.1, 'maxQty': 10000.0, 'minQty': 0.1},\n",
       " 'SANDBUSD': {'stepSize': 0.1, 'maxQty': 45000.0, 'minQty': 0.1},\n",
       " 'LTCBUSD': {'stepSize': 0.01, 'maxQty': 1000.0, 'minQty': 0.01},\n",
       " 'MATICBUSD': {'stepSize': 1.0, 'maxQty': 100000.0, 'minQty': 1.0},\n",
       " 'CVXBUSD': {'stepSize': 0.1, 'maxQty': 10000.0, 'minQty': 0.1}}"
      ]
     },
     "execution_count": 25,
     "metadata": {},
     "output_type": "execute_result"
    }
   ],
   "source": [
    "import json\n",
    "data"
   ]
  },
  {
   "cell_type": "code",
   "execution_count": 27,
   "metadata": {},
   "outputs": [],
   "source": [
    "import json\n",
    "kucoin_perp_symbols = json.load(open('orderbook/exchange/symbols/kucoin_perp.json'))"
   ]
  },
  {
   "cell_type": "code",
   "execution_count": 28,
   "metadata": {},
   "outputs": [],
   "source": [
    "symbols = []\n",
    "for _, symb_data in kucoin_perp_symbols.items():\n",
    "    symbols += list(symb_data.values())"
   ]
  },
  {
   "cell_type": "code",
   "execution_count": null,
   "metadata": {},
   "outputs": [],
   "source": []
  }
 ],
 "metadata": {
  "kernelspec": {
   "display_name": "Python 3 (ipykernel)",
   "language": "python",
   "name": "python3"
  },
  "language_info": {
   "codemirror_mode": {
    "name": "ipython",
    "version": 3
   },
   "file_extension": ".py",
   "mimetype": "text/x-python",
   "name": "python",
   "nbconvert_exporter": "python",
   "pygments_lexer": "ipython3",
   "version": "3.9.12"
  },
  "vscode": {
   "interpreter": {
    "hash": "562f600edebc9fd5f77a86a2465132ed615db4db3c1563b33cc9a1e08917e90d"
   }
  }
 },
 "nbformat": 4,
 "nbformat_minor": 2
}
