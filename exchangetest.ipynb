{
 "cells": [
  {
   "cell_type": "code",
   "execution_count": 1,
   "metadata": {},
   "outputs": [],
   "source": [
    "from orderbook.exchange.binance import perp"
   ]
  },
  {
   "cell_type": "code",
   "execution_count": 2,
   "metadata": {},
   "outputs": [],
   "source": [
    "API_KEY = '93a09d317e3c3d6a986401c1ad487d81f8c53a50122f3a91a0610fe9880b884d' # futures testnet^M\n",
    "API_SECRET = '286e0fca8d36061c20f0dc53ef7a31c670ee8a993cc63c90c1cea9cfdfab764b'\n",
    "creds = {'api_key':API_KEY, 'api_secret':API_SECRET}"
   ]
  },
  {
   "cell_type": "code",
   "execution_count": 3,
   "metadata": {},
   "outputs": [],
   "source": [
    "pairs = ('ETH', 'USDT'), ('BAT', 'USDT'), ('ALICE', 'USDT'), ('ADA', 'USDT')"
   ]
  },
  {
   "cell_type": "code",
   "execution_count": 4,
   "metadata": {},
   "outputs": [],
   "source": [
    "bm = perp.PerpExchange(pairs=pairs, private=True, credentials=creds, testnet=True)"
   ]
  },
  {
   "cell_type": "code",
   "execution_count": 5,
   "metadata": {},
   "outputs": [
    {
     "name": "stdout",
     "output_type": "stream",
     "text": [
      "Starting binance perp exchange\n"
     ]
    },
    {
     "data": {
      "text/plain": [
       "<Thread(Thread-3, started 17072)>"
      ]
     },
     "execution_count": 5,
     "metadata": {},
     "output_type": "execute_result"
    }
   ],
   "source": [
    "bm.start()"
   ]
  },
  {
   "cell_type": "code",
   "execution_count": 14,
   "metadata": {},
   "outputs": [],
   "source": [
    "bm.asks(pairs[1])"
   ]
  },
  {
   "cell_type": "code",
   "execution_count": 6,
   "metadata": {},
   "outputs": [
    {
     "data": {
      "text/plain": [
       "3069697818"
      ]
     },
     "execution_count": 6,
     "metadata": {},
     "output_type": "execute_result"
    },
    {
     "name": "stdout",
     "output_type": "stream",
     "text": [
      "{'e': 'ORDER_TRADE_UPDATE', 'T': 1657716515339, 'E': 1657716515341, 'o': {'s': 'BTCUSDT', 'c': 'YBJZQtEOnZwrGiOACBgICp', 'S': 'BUY', 'o': 'LIMIT', 'f': 'GTC', 'q': '0.020', 'p': '19000', 'ap': '0', 'sp': '0', 'x': 'NEW', 'X': 'NEW', 'i': 3069697818, 'l': '0', 'z': '0', 'L': '0', 'T': 1657716515339, 't': 0, 'b': '380', 'a': '0', 'm': False, 'R': False, 'wt': 'CONTRACT_PRICE', 'ot': 'LIMIT', 'ps': 'BOTH', 'cp': False, 'rp': '0', 'pP': False, 'si': 0, 'ss': 0}}\n"
     ]
    }
   ],
   "source": [
    "bm.buy(pair=('BTC', 'USDT'), qty=0.02, price=19000)"
   ]
  },
  {
   "cell_type": "code",
   "execution_count": 9,
   "metadata": {},
   "outputs": [
    {
     "name": "stdout",
     "output_type": "stream",
     "text": [
      "ADAUSDT: Start data is not valid for time: 5\n",
      "ETHUSDT: Start data is not valid for time: 15\n",
      "ADAUSDT: Start data is not valid for time: 6\n",
      "ADAUSDT: Start data is not valid for time: 6\n",
      "ADAUSDT: Start data is not valid for time: 6\n",
      "{'orderId': 3069697818, 'symbol': 'BTCUSDT', 'status': 'CANCELED', 'clientOrderId': 'YBJZQtEOnZwrGiOACBgICp', 'price': '19000', 'avgPrice': '0.00000', 'origQty': '0.020', 'executedQty': '0', 'cumQty': '0', 'cumQuote': '0', 'timeInForce': 'GTC', 'type': 'LIMIT', 'reduceOnly': False, 'closePosition': False, 'side': 'BUY', 'positionSide': 'BOTH', 'stopPrice': '0', 'workingType': 'CONTRACT_PRICE', 'priceProtect': False, 'origType': 'LIMIT', 'updateTime': 1657716541025}\n",
      "{'e': 'ORDER_TRADE_UPDATE', 'T': 1657716541025, 'E': 1657716541027, 'o': {'s': 'BTCUSDT', 'c': 'YBJZQtEOnZwrGiOACBgICp', 'S': 'BUY', 'o': 'LIMIT', 'f': 'GTC', 'q': '0.020', 'p': '19000', 'ap': '0', 'sp': '0', 'x': 'CANCELED', 'X': 'CANCELED', 'i': 3069697818, 'l': '0', 'z': '0', 'L': '0', 'T': 1657716541025, 't': 0, 'b': '0', 'a': '0', 'm': False, 'R': False, 'wt': 'CONTRACT_PRICE', 'ot': 'LIMIT', 'ps': 'BOTH', 'cp': False, 'rp': '0', 'pP': False, 'si': 0, 'ss': 0}}\n"
     ]
    }
   ],
   "source": [
    "bm.cancel_order(3069697818,)"
   ]
  },
  {
   "cell_type": "code",
   "execution_count": 11,
   "metadata": {},
   "outputs": [
    {
     "data": {
      "text/plain": [
       "{3069697818: Order(updatetime=1657716541027, id=3069697818, symbol='BTCUSDT', price='19000', quantity='0.020', side='BUY', status='CANCELED', executed_quantity=0.0, avg_price=0.0)}"
      ]
     },
     "execution_count": 11,
     "metadata": {},
     "output_type": "execute_result"
    }
   ],
   "source": [
    "bm.orders"
   ]
  },
  {
   "cell_type": "code",
   "execution_count": 6,
   "metadata": {},
   "outputs": [],
   "source": [
    "listenkey = bm.get_listenkey()\n",
    "streams = bm.get_streams()"
   ]
  },
  {
   "cell_type": "code",
   "execution_count": 4,
   "metadata": {},
   "outputs": [
    {
     "data": {
      "text/plain": [
       "[<_MainThread(MainThread, started 13564)>,\n",
       " <Thread(IOPub, started daemon 11164)>,\n",
       " <Heartbeat(Heartbeat, started daemon 22504)>,\n",
       " <ControlThread(Control, started daemon 16656)>,\n",
       " <HistorySavingThread(IPythonHistorySavingThread, started 892)>,\n",
       " <ParentPollerWindows(Thread-2, started daemon 5888)>]"
      ]
     },
     "execution_count": 4,
     "metadata": {},
     "output_type": "execute_result"
    }
   ],
   "source": [
    "import threading\n",
    "# get all threads\n",
    "threads = threading.enumerate()\n",
    "threads"
   ]
  },
  {
   "cell_type": "code",
   "execution_count": 8,
   "metadata": {},
   "outputs": [],
   "source": [
    "def clbk(msg):\n",
    "    # print(msg)\n",
    "    if 'e' in msg:\n",
    "        if msg['e'] == 'ORDER_TRADE_UPDATE':\n",
    "            print(msg)\n",
    "    "
   ]
  },
  {
   "cell_type": "code",
   "execution_count": 9,
   "metadata": {},
   "outputs": [
    {
     "name": "stdout",
     "output_type": "stream",
     "text": [
      "wss://stream.binancefuture.com/ws/stream?streams=ethusdt@depth@100ms/batusdt@depth@100ms/aliceusdt@depth@100ms/adausdt@depth@100ms&listenKey=GSWXjhGk2XxhN7GCIJryeNjYysEm0VlNP4zMDID9r1gdw0KMaD21V9HveYxCQCNq\n"
     ]
    }
   ],
   "source": [
    "from orderbook.socketmanager import Socket\n",
    "url = 'wss://stream.binancefuture.com/ws/stream?streams=' + '/'.join(streams) + '&listenKey=' + listenkey \n",
    "s = Socket(url, clbk)\n",
    "s.start()"
   ]
  },
  {
   "cell_type": "code",
   "execution_count": null,
   "metadata": {},
   "outputs": [],
   "source": []
  }
 ],
 "metadata": {
  "kernelspec": {
   "display_name": "Python 3.9.12 ('base')",
   "language": "python",
   "name": "python3"
  },
  "language_info": {
   "codemirror_mode": {
    "name": "ipython",
    "version": 3
   },
   "file_extension": ".py",
   "mimetype": "text/x-python",
   "name": "python",
   "nbconvert_exporter": "python",
   "pygments_lexer": "ipython3",
   "version": "3.9.12"
  },
  "orig_nbformat": 4,
  "vscode": {
   "interpreter": {
    "hash": "562f600edebc9fd5f77a86a2465132ed615db4db3c1563b33cc9a1e08917e90d"
   }
  }
 },
 "nbformat": 4,
 "nbformat_minor": 2
}
